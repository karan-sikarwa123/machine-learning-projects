{
 "cells": [
  {
   "cell_type": "markdown",
   "metadata": {},
   "source": [
    "## Create your own CNN model, using Images"
   ]
  },
  {
   "cell_type": "markdown",
   "metadata": {},
   "source": [
    "### Topics to be covered in CNN (Convolutional Neural Network)\n",
    "1. Convolutions & Image Features.\n",
    "2. Depth, Stride & Padding. (Customizing the filter)\n",
    "3. ReLU (Activation Function).\n",
    "4. Pooling.\n",
    "5. Fully Connected Layer"
   ]
  },
  {
   "cell_type": "markdown",
   "metadata": {},
   "source": [
    "### 1. Convolutionals - \n",
    "A mathematical term used to describe the process of combining two functions to produce a third function. It is the action of using a filter or kernel that is applied to the input and generate a third function called feature map. Check the image below for more illustration."
   ]
  },
  {
   "cell_type": "markdown",
   "metadata": {},
   "source": [
    "<img src=\"images/map_creation.png\">"
   ]
  },
  {
   "cell_type": "markdown",
   "metadata": {},
   "source": [
    "#### Filters\n",
    "\n",
    "When we reduce our image, we need to multiply each and every pixel to our filter. Check the below illustration to understand how filter works."
   ]
  },
  {
   "cell_type": "markdown",
   "metadata": {},
   "source": [
    "<img src=\"images/feature_map.gif\">"
   ]
  },
  {
   "cell_type": "markdown",
   "metadata": {},
   "source": [
    "### 2. Depth, Stride & Padding - \n",
    "\n",
    "Depth - Describe the number of filters used. Each filter learns different feature maps that are activated in the presence of different image features (edges, patterns, colors, layouts).\n",
    "\n",
    "Stride - Simply refers to step size we take when we slide out kernels.\n",
    "\n",
    "Padding - Zero padding refers to a border that we apply to the input volume."
   ]
  },
  {
   "cell_type": "code",
   "execution_count": 4,
   "metadata": {},
   "outputs": [],
   "source": [
    "## add image"
   ]
  },
  {
   "cell_type": "markdown",
   "metadata": {
    "hide_input": false
   },
   "source": [
    "### 3. ReLU (Activation Function) - \n",
    "\n",
    "In this layer we remove every negative values from the filtered images and replaces it with zero’s\n",
    "\n",
    "This is done to avoid the values from summing up to zero"
   ]
  },
  {
   "cell_type": "markdown",
   "metadata": {},
   "source": [
    "<img src=\"images/relu_activation.png\">"
   ]
  },
  {
   "cell_type": "markdown",
   "metadata": {},
   "source": [
    "### 4. Pooling - \n",
    "\n",
    "In this layer we shrink the image stack into a smaller size"
   ]
  },
  {
   "cell_type": "markdown",
   "metadata": {},
   "source": [
    "#### Steps\n",
    "\n",
    "1. Pick a window size (usually 2 or 3).\n",
    "2. Pick a stride (usually 2).\n",
    "3. Walk your window across your filtered images.\n",
    "4. From each window, take the maximum value."
   ]
  },
  {
   "cell_type": "markdown",
   "metadata": {},
   "source": [
    "<img src=\"images/pooling.png\"/>"
   ]
  },
  {
   "cell_type": "markdown",
   "metadata": {},
   "source": [
    "### 5. Fully Connected Layer - \n",
    "\n",
    "1. Take our image, filter it using convolutional layers and then through relu activation function and then pooling layer.\n",
    "2. Take our filtered image to perform classification."
   ]
  },
  {
   "cell_type": "markdown",
   "metadata": {},
   "source": [
    "<img src=\"images/full_connected_layer.png\"/>"
   ]
  }
 ],
 "metadata": {
  "kernelspec": {
   "display_name": "Python 3",
   "language": "python",
   "name": "python3"
  },
  "language_info": {
   "codemirror_mode": {
    "name": "ipython",
    "version": 3
   },
   "file_extension": ".py",
   "mimetype": "text/x-python",
   "name": "python",
   "nbconvert_exporter": "python",
   "pygments_lexer": "ipython3",
   "version": "3.6.4"
  },
  "latex_envs": {
   "LaTeX_envs_menu_present": true,
   "autoclose": false,
   "autocomplete": true,
   "bibliofile": "biblio.bib",
   "cite_by": "apalike",
   "current_citInitial": 1,
   "eqLabelWithNumbers": true,
   "eqNumInitial": 1,
   "hotkeys": {
    "equation": "Ctrl-E",
    "itemize": "Ctrl-I"
   },
   "labels_anchors": false,
   "latex_user_defs": false,
   "report_style_numbering": false,
   "user_envs_cfg": false
  }
 },
 "nbformat": 4,
 "nbformat_minor": 2
}
